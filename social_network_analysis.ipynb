{
 "cells": [
  {
   "cell_type": "markdown",
   "id": "9568d55e-4bbf-4f96-92e3-053b364f66da",
   "metadata": {},
   "source": [
    "# Code book for the data analyst project using Python "
   ]
  },
  {
   "cell_type": "markdown",
   "id": "96d36091-cb24-457e-8aa3-c8f06f275fa1",
   "metadata": {},
   "source": [
    "we have a `json` data and using that we should take meaning full insits from the data "
   ]
  },
  {
   "cell_type": "markdown",
   "id": "c076989c-1941-49f3-9b91-479325469486",
   "metadata": {},
   "source": [
    "by Reading this data and understand its structure. The data contains three main components:\n",
    "\n",
    "-1.**users**: Each user has an ID, name, a list of friends (by their IDs), and a list of liked pages (by their IDs).\n",
    "\n",
    "-2. **Pages**: Each page has an ID and a name.\n",
    "\n",
    "-3.**Connections**: Users can have multiple friends and can like multiple pages."
   ]
  },
  {
   "cell_type": "markdown",
   "id": "807fccf2-594f-4221-93d4-ef1a157e17a2",
   "metadata": {},
   "source": [
    "### starting the implementation of the project"
   ]
  },
  {
   "cell_type": "code",
   "execution_count": 1,
   "id": "85f1b723-f1ce-4deb-85b5-bd63b5062f78",
   "metadata": {},
   "outputs": [],
   "source": [
    "import json"
   ]
  },
  {
   "cell_type": "code",
   "execution_count": 2,
   "id": "3b9ecf45-61b9-41d6-833c-b5c9dd06bb28",
   "metadata": {},
   "outputs": [],
   "source": [
    "#this is the function to load the data\n",
    "def load_data(filename):#using this, we can load any data ( this is as a template) \n",
    "    with open(filename,\"r\") as f:\n",
    "        data =json.load(f)\n",
    "    return data\n",
    "    "
   ]
  },
  {
   "cell_type": "code",
   "execution_count": 3,
   "id": "226f0510-5bcf-4827-8a61-a0e57a3bce9b",
   "metadata": {},
   "outputs": [],
   "source": [
    "data = load_data(\"data.json\")\n"
   ]
  },
  {
   "cell_type": "code",
   "execution_count": 4,
   "id": "207b1607-41bb-45fa-9a37-74ff6d7fa146",
   "metadata": {},
   "outputs": [
    {
     "data": {
      "text/plain": [
       "{'users': [{'id': 1, 'name': 'Amit', 'friends': [2, 3], 'liked_pages': [101]},\n",
       "  {'id': 2, 'name': 'Priya', 'friends': [1, 4], 'liked_pages': [102]},\n",
       "  {'id': 3, 'name': 'Rahul', 'friends': [1], 'liked_pages': [101, 103]},\n",
       "  {'id': 4, 'name': 'Sara', 'friends': [2], 'liked_pages': [104]}],\n",
       " 'pages': [{'id': 101, 'name': 'Python Developers'},\n",
       "  {'id': 102, 'name': 'Data Science Enthusiasts'},\n",
       "  {'id': 103, 'name': 'AI & ML Community'},\n",
       "  {'id': 104, 'name': 'Web Dev Hub'}]}"
      ]
     },
     "execution_count": 4,
     "metadata": {},
     "output_type": "execute_result"
    }
   ],
   "source": [
    "data"
   ]
  },
  {
   "cell_type": "code",
   "execution_count": 5,
   "id": "28f377ad-73a5-4d33-a717-5a3a3c0b71ec",
   "metadata": {},
   "outputs": [
    {
     "name": "stdout",
     "output_type": "stream",
     "text": [
      "users and their connections\n",
      "\n",
      "ID:1 - Amit is friends with : [2, 3] and liked pages are [101]\n",
      "ID:2 - Priya is friends with : [1, 4] and liked pages are [102]\n",
      "ID:3 - Rahul is friends with : [1] and liked pages are [101, 103]\n",
      "ID:4 - Sara is friends with : [2] and liked pages are [104]\n",
      "\n",
      " pages information\n",
      "101:Python Developers\n",
      "102:Data Science Enthusiasts\n",
      "103:AI & ML Community\n",
      "104:Web Dev Hub\n"
     ]
    }
   ],
   "source": [
    "def display_user(data):\n",
    "    print(\"users and their connections\\n\")\n",
    "    for user in data['users']:\n",
    "        print(f\"ID:{user['id']} - {user['name']} is friends with : {user['friends']} and liked pages are {user['liked_pages']}\")\n",
    "    \n",
    "    print(\"\\n pages information\")\n",
    "    for page in data['pages']:\n",
    "        print(f\"{page['id']}:{page['name']}\")\n",
    "\n",
    "display_user(data)\n"
   ]
  },
  {
   "cell_type": "markdown",
   "id": "99adf785-cd42-40ac-8d9e-4abb2f387f88",
   "metadata": {},
   "source": [
    "# Cleaning and Structuring the Data"
   ]
  },
  {
   "cell_type": "markdown",
   "id": "210aa8ca-81ba-4aa9-aed1-364775e876cb",
   "metadata": {},
   "source": [
    " ### we need to **clean and structure the data** properly.\n",
    "\n",
    "#### task is to:\n",
    "\n",
    "-Handle missing values\n",
    "\n",
    "-Remove duplicate or inconsistent data\n",
    "\n",
    "-Standardize the data formatm"
   ]
  },
  {
   "cell_type": "code",
   "execution_count": 6,
   "id": "57ce2efb-8c7e-4bd7-9b32-03b007b11699",
   "metadata": {},
   "outputs": [
    {
     "name": "stdout",
     "output_type": "stream",
     "text": [
      "Data has been cleaned successfully\n"
     ]
    }
   ],
   "source": [
    "import json\n",
    "\n",
    "def clean_data(data):\n",
    "    # removing users with missing names \n",
    "    data[\"users\"] = [user for user in data[\"users\"] if user[\"name\"].strip()]\n",
    "    # remove duplicate friends\n",
    "    for user in data[\"users\"]:\n",
    "        user['friends'] = list(set(user['friends']))\n",
    "    # removing inactive users\n",
    "    data ['users'] = [user for user in data['users'] if user ['friends'] or user['liked_pages']]\n",
    "\n",
    "    #removing duplicate pages\n",
    "    unique_pages = {}\n",
    "    for page in data ['pages']:\n",
    "        unique_pages[page['id']] = page\n",
    "    data['pages'] = list(unique_pages.values())\n",
    "    return data\n",
    "\n",
    "# loading the data \n",
    "with open(\"data2.json\") as f:\n",
    "    data = json.load(f)\n",
    "\n",
    "data = clean_data(data)\n",
    "\n",
    "with open(\"cleaned_data2.json\", \"w\") as f:\n",
    "    json.dump(data, f, indent=4)\n",
    "\n",
    "print(\"Data has been cleaned successfully\")\n"
   ]
  },
  {
   "cell_type": "markdown",
   "id": "74fc5a1f-ea8a-4677-9196-71c2ac060e11",
   "metadata": {},
   "source": [
    "# Finding **\"People You May Know\"**\n",
    "Now that our data is cleaned and structured, we need to  build a 'People You May Know' feature!\n",
    "\n",
    "In social networks, this feature helps users connect with others by suggesting friends based on mutual connections. Your job is to analyse mutual friends and recommend potential connections."
   ]
  },
  {
   "cell_type": "markdown",
   "id": "aecf37f8-eb2c-4a84-862b-b4ebf6cf6556",
   "metadata": {},
   "source": [
    "### Task 1: Understand the Logic\n",
    "How 'People You May Know' Works:\n",
    "If User A and User B are not friends but have mutual friends, we suggest User B to User A and vice versa.\n",
    "More mutual friends = higher priority recommendation.\n",
    "Example:\n",
    "\n",
    "Amit (ID: 1) is friends with Priya (ID: 2) and Rahul (ID: 3).\n",
    "Priya (ID: 2) is friends with Sara (ID: 4).\n",
    "Amit is not directly friends with Sara, but they share Priya as a mutual friend.\n",
    "Suggest Sara to Amit as \"People You May Know\".`"
   ]
  },
  {
   "cell_type": "code",
   "execution_count": 8,
   "id": "63b061fb-9651-45ce-bc13-3d6940500b6d",
   "metadata": {},
   "outputs": [
    {
     "name": "stdout",
     "output_type": "stream",
     "text": [
      "[7, 8, 9, 10, 11, 12]\n"
     ]
    }
   ],
   "source": [
    "import json \n",
    "\n",
    "def load_data(filename):\n",
    "    with open(filename, \"r\") as f:\n",
    "        return json.load(f)\n",
    "\n",
    "def find_people_you_may_know(user_id, data):\n",
    "    user_friends = {}\n",
    "    for user in data['users']:\n",
    "        user_friends[user['id']] = set(user['friends'])\n",
    "\n",
    "    if user_id not in user_friends:\n",
    "        return []\n",
    "\n",
    "    direct_friends = user_friends[user_id]\n",
    "    suggestions = {}\n",
    "    for friend in direct_friends:\n",
    "        for mutual in user_friends[friend]:\n",
    "            if mutual != user_id and mutual not in direct_friends:\n",
    "                # count mutual friends\n",
    "                suggestions[mutual] = suggestions.get(mutual, 0) + 1\n",
    "\n",
    "    sorted_suggestions = sorted(suggestions.items(), key=lambda x: x[1], reverse=True)\n",
    "    return [uid for uid, mutual_count in sorted_suggestions]\n",
    "\n",
    "# load the data \n",
    "data = load_data(\"massive_data.json\")\n",
    "user_id = 1\n",
    "recc = find_people_you_may_know(user_id, data)\n",
    "print(recc)\n"
   ]
  },
  {
   "cell_type": "markdown",
   "id": "18a7c9b6-cee0-4d08-9f16-88a31bbe0d3f",
   "metadata": {},
   "source": [
    "# Finding \"Pages You Might Like\""
   ]
  },
  {
   "cell_type": "markdown",
   "id": "ced132d5-c30f-4340-be38-45c5e1f383d0",
   "metadata": {},
   "source": [
    "#### After cleaning messy data and building features like People You May Know, it's time to launch our last feature: Pages You Might Like.\n",
    "\n",
    "##### Why This Matters\n",
    "In real-world social networks, content discovery keeps users engaged. This feature simulates that experience using nothing but pure Python, showing how even simple logic can power impactful insights. So now the situation is that your manager is impressed with your 'People You May Know' feature and now assigns you a new challenge: Recommend pages that users might like!\n",
    "\n",
    "On social media platforms, users interact with pages by liking, following, or engaging with posts. The goal is to analyze these interactions and suggest relevant pages based on user behavior."
   ]
  },
  {
   "cell_type": "code",
   "execution_count": 10,
   "id": "783152f0-6cd0-49be-9980-d81b2388b12c",
   "metadata": {},
   "outputs": [
    {
     "name": "stdout",
     "output_type": "stream",
     "text": [
      "[(103, 2), (105, 1), (107, 1), (104, 0), (106, 0), (108, 0), (109, 0), (110, 0), (111, 0), (112, 0), (113, 0), (114, 0), (115, 0), (116, 0), (117, 0), (118, 0), (119, 0), (120, 0), (121, 0), (122, 0), (123, 0), (124, 0), (125, 0), (126, 0), (127, 0)]\n"
     ]
    }
   ],
   "source": [
    "import json \n",
    "\n",
    "# function to load the JSON data \n",
    "def load_data(filename):\n",
    "    with open(filename, \"r\") as f:\n",
    "        return json.load(f)\n",
    "\n",
    "# function to find pages a user might like based on common interests \n",
    "def find_pages_you_might_like(user_id, data):\n",
    "    # dictionary to store user interactions with pages \n",
    "    user_pages = {}\n",
    "\n",
    "    # populate the dictionary \n",
    "    for user in data['users']:\n",
    "        user_pages[user['id']] = set(user['liked_pages'])\n",
    "\n",
    "    # if the user is not found, return an empty list \n",
    "    if user_id not in user_pages:\n",
    "        return []\n",
    "\n",
    "    user_liked_pages = user_pages[user_id]\n",
    "    page_suggestions = {}\n",
    "\n",
    "    for other_user, pages in user_pages.items():\n",
    "        if other_user != user_id:\n",
    "            shared_pages = user_liked_pages.intersection(pages)\n",
    "            for page in pages:\n",
    "                if page not in user_liked_pages:\n",
    "                    page_suggestions[page] = page_suggestions.get(page, 0) + len(shared_pages)\n",
    "\n",
    "    # sort recommended pages based on number of shared interactions\n",
    "    sorted_pages = sorted(page_suggestions.items(), key=lambda x: x[1], reverse=True)\n",
    "    return [(page_id, score) for page_id, score in sorted_pages]  \n",
    "\n",
    "# load the data \n",
    "data = load_data(\"massive_data.json\")\n",
    "user_id = 1\n",
    "page_recommendation = find_pages_you_might_like(user_id, data)\n",
    "print(page_recommendation)\n"
   ]
  },
  {
   "cell_type": "code",
   "execution_count": null,
   "id": "829e8f00-c948-4228-9efc-3070a5d5b77f",
   "metadata": {},
   "outputs": [],
   "source": []
  }
 ],
 "metadata": {
  "kernelspec": {
   "display_name": "Python [conda env:base] *",
   "language": "python",
   "name": "conda-base-py"
  },
  "language_info": {
   "codemirror_mode": {
    "name": "ipython",
    "version": 3
   },
   "file_extension": ".py",
   "mimetype": "text/x-python",
   "name": "python",
   "nbconvert_exporter": "python",
   "pygments_lexer": "ipython3",
   "version": "3.13.5"
  }
 },
 "nbformat": 4,
 "nbformat_minor": 5
}
